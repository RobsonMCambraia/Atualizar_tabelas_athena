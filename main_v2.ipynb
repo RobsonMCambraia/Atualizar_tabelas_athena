{
 "cells": [
  {
   "cell_type": "code",
   "execution_count": 1,
   "metadata": {},
   "outputs": [],
   "source": [
    "import os\n",
    "from dotenv import load_dotenv\n",
    "from pyathena import connect\n",
    "from pyathena.pandas.util import as_pandas\n",
    "from pyathena.arrow.cursor import ArrowCursor\n",
    "import pyarrow as pa\n",
    "import pyarrow.parquet as pq\n",
    "import polars as pl\n",
    "\n",
    "load_dotenv()\n",
    "aws_access_key_id = os.getenv(\"AWS_ACCESS_KEY_ID\")\n",
    "aws_secret_access_key = os.getenv(\"AWS_SECRET_ACCESS_KEY\")\n",
    "region_name = os.getenv(\"AWS_REGION\")\n",
    "s3_staging_dir = os.getenv(\"S3_STAGING_DIR\")\n",
    "\n",
    "conn = connect(\n",
    "    aws_access_key_id=aws_access_key_id,\n",
    "    aws_secret_access_key=aws_secret_access_key,\n",
    "    s3_staging_dir=s3_staging_dir,\n",
    "    region_name=region_name)"
   ]
  },
  {
   "cell_type": "code",
   "execution_count": 4,
   "metadata": {},
   "outputs": [
    {
     "name": "stdout",
     "output_type": "stream",
     "text": [
      "Tabela deletada\n",
      "Arquivo de consulta lido\n",
      "Tabela criada\n"
     ]
    }
   ],
   "source": [
    "def main():\n",
    "    try:\n",
    "        with conn.cursor() as cursor:\n",
    "            cursor.execute(\"drop table if exists prevencao_a_fraude.vendas_cambraia;\")\n",
    "            print(\"Tabela deletada\")\n",
    "\n",
    "            with open(\"vendas.sql\", 'r') as file:\n",
    "                query_venda = file.read()\n",
    "            print(\"Arquivo de consulta lido\")\n",
    "            cursor.execute(query_venda)\n",
    "            print(\"Tabela criada\")\n",
    "            \n",
    "            # Executar consulta final\n",
    "            df_venda = as_pandas(cursor.execute('''\n",
    "            select * from prevencao_a_fraude.vendas_cambraia CV\n",
    "            order by CV. FILIAL, CV.DATA_VDA, CV.COO asc'''))\n",
    "            print(\"Query de vendas finalizada!\")\n",
    "            print(\"Número de linhas:\\t\", len(df_venda))\n",
    "\n",
    "            pq.write_table(df_venda, 'vendas.parquet')\n",
    "            print(\"Parquet criado!\")\n",
    "\n",
    "    except Exception as e:\n",
    "        print(f\"Erro geral: {e}\")\n",
    "    finally:\n",
    "        conn.close()\n",
    "    return df_venda\n",
    "\n",
    "df_venda = main()"
   ]
  },
  {
   "cell_type": "code",
   "execution_count": null,
   "metadata": {},
   "outputs": [],
   "source": []
  }
 ],
 "metadata": {
  "kernelspec": {
   "display_name": "base",
   "language": "python",
   "name": "python3"
  },
  "language_info": {
   "codemirror_mode": {
    "name": "ipython",
    "version": 3
   },
   "file_extension": ".py",
   "mimetype": "text/x-python",
   "name": "python",
   "nbconvert_exporter": "python",
   "pygments_lexer": "ipython3",
   "version": "3.11.5"
  }
 },
 "nbformat": 4,
 "nbformat_minor": 2
}
